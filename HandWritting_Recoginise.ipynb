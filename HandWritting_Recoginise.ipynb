{
  "nbformat": 4,
  "nbformat_minor": 0,
  "metadata": {
    "colab": {
      "name": "HandWritting_Recoginise.ipynb",
      "version": "0.3.2",
      "provenance": [],
      "include_colab_link": true
    },
    "kernelspec": {
      "name": "python3",
      "display_name": "Python 3"
    }
  },
  "cells": [
    {
      "cell_type": "markdown",
      "metadata": {
        "id": "view-in-github",
        "colab_type": "text"
      },
      "source": [
        "<a href=\"https://colab.research.google.com/github/Hari1331/Hari_DS/blob/master/HandWritting_Recoginise.ipynb\" target=\"_parent\"><img src=\"https://colab.research.google.com/assets/colab-badge.svg\" alt=\"Open In Colab\"/></a>"
      ]
    },
    {
      "cell_type": "markdown",
      "metadata": {
        "id": "q4Yr0yADZ9q1",
        "colab_type": "text"
      },
      "source": [
        "**Hand Writting Recoigination **\n",
        "*Import  the tensorflow  libraries*"
      ]
    },
    {
      "cell_type": "code",
      "metadata": {
        "id": "_TTwFcdaaKPr",
        "colab_type": "code",
        "colab": {}
      },
      "source": [
        "import tensorflow as tf"
      ],
      "execution_count": 0,
      "outputs": []
    },
    {
      "cell_type": "markdown",
      "metadata": {
        "id": "J_TCl_oqaNQV",
        "colab_type": "text"
      },
      "source": [
        "Write a class Callback to terminate the Training when Encops are 99% acurate"
      ]
    },
    {
      "cell_type": "code",
      "metadata": {
        "id": "NlYuIFc4aW3C",
        "colab_type": "code",
        "colab": {}
      },
      "source": [
        "class myCallback(tf.keras.callbacks.Callback):\n",
        "  def on_epoch_end(self, epoch, logs={}):\n",
        "    if(logs.get('acc')>0.99):\n",
        "      print(\"\\nReached 99% accuracy so cancelling training!\")\n",
        "      self.model.stop_training = True"
      ],
      "execution_count": 0,
      "outputs": []
    },
    {
      "cell_type": "markdown",
      "metadata": {
        "id": "Gij8m7cha_Wn",
        "colab_type": "text"
      },
      "source": [
        "Get the Dataset from MNIST Fashion"
      ]
    },
    {
      "cell_type": "code",
      "metadata": {
        "id": "N6h5gjq-bGzE",
        "colab_type": "code",
        "colab": {}
      },
      "source": [
        "mnist = tf.keras.datasets.mnist"
      ],
      "execution_count": 0,
      "outputs": []
    },
    {
      "cell_type": "markdown",
      "metadata": {
        "id": "qLWajddmbI0p",
        "colab_type": "text"
      },
      "source": [
        "Load the Dataset into image variables"
      ]
    },
    {
      "cell_type": "code",
      "metadata": {
        "id": "QQvBXEWDbMER",
        "colab_type": "code",
        "colab": {}
      },
      "source": [
        "(x_train, y_train),(x_test, y_test) = mnist.load_data()"
      ],
      "execution_count": 0,
      "outputs": []
    },
    {
      "cell_type": "code",
      "metadata": {
        "id": "NuqDlNJkbP3z",
        "colab_type": "code",
        "colab": {}
      },
      "source": [
        "x_train, x_test = x_train / 255.0, x_test / 255.0"
      ],
      "execution_count": 0,
      "outputs": []
    },
    {
      "cell_type": "markdown",
      "metadata": {
        "id": "7wN8A5pNbSme",
        "colab_type": "text"
      },
      "source": [
        "Read the callback function"
      ]
    },
    {
      "cell_type": "code",
      "metadata": {
        "id": "efsxyYdHbVMx",
        "colab_type": "code",
        "colab": {}
      },
      "source": [
        "callbacks = myCallback()"
      ],
      "execution_count": 0,
      "outputs": []
    },
    {
      "cell_type": "markdown",
      "metadata": {
        "id": "iMpkGlPMbb2Q",
        "colab_type": "text"
      },
      "source": [
        "Get the Image or Input shapes, Lets Assume the shape as 28 * 28 pikcel"
      ]
    },
    {
      "cell_type": "code",
      "metadata": {
        "id": "PqGBZP1QbX5z",
        "colab_type": "code",
        "colab": {
          "base_uri": "https://localhost:8080/",
          "height": 104
        },
        "outputId": "c8acb603-6432-4015-8fad-d1ba5426760c"
      },
      "source": [
        "model = tf.keras.models.Sequential([\n",
        "  tf.keras.layers.Flatten(input_shape=(28, 28)),\n",
        "  tf.keras.layers.Dense(512, activation=tf.nn.relu),\n",
        "  tf.keras.layers.Dense(10, activation=tf.nn.softmax)\n",
        "])"
      ],
      "execution_count": 8,
      "outputs": [
        {
          "output_type": "stream",
          "text": [
            "WARNING: Logging before flag parsing goes to stderr.\n",
            "W0729 11:13:10.859544 140486402951040 deprecation.py:506] From /usr/local/lib/python3.6/dist-packages/tensorflow/python/ops/init_ops.py:1251: calling VarianceScaling.__init__ (from tensorflow.python.ops.init_ops) with dtype is deprecated and will be removed in a future version.\n",
            "Instructions for updating:\n",
            "Call initializer instance with the dtype argument instead of passing it to the constructor\n"
          ],
          "name": "stderr"
        }
      ]
    }
  ]
}
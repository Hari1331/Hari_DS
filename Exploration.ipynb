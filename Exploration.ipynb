{
  "nbformat": 4,
  "nbformat_minor": 0,
  "metadata": {
    "colab": {
      "name": "Exploration.ipynb",
      "version": "0.3.2",
      "provenance": [],
      "include_colab_link": true
    },
    "kernelspec": {
      "name": "python3",
      "display_name": "Python 3"
    }
  },
  "cells": [
    {
      "cell_type": "markdown",
      "metadata": {
        "id": "view-in-github",
        "colab_type": "text"
      },
      "source": [
        "<a href=\"https://colab.research.google.com/github/Hari1331/Hari_DS/blob/master/Exploration.ipynb\" target=\"_parent\"><img src=\"https://colab.research.google.com/assets/colab-badge.svg\" alt=\"Open In Colab\"/></a>"
      ]
    },
    {
      "cell_type": "code",
      "metadata": {
        "id": "HTq6sOooHp3t",
        "colab_type": "code",
        "colab": {
          "base_uri": "https://localhost:8080/",
          "height": 34
        },
        "outputId": "aa6a9dae-404b-43db-c9b1-2659834ad75a"
      },
      "source": [
        "\n",
        "import tensorflow as tf\n",
        "print(tf.__version__)\n"
      ],
      "execution_count": 1,
      "outputs": [
        {
          "output_type": "stream",
          "text": [
            "1.14.0\n"
          ],
          "name": "stdout"
        }
      ]
    },
    {
      "cell_type": "markdown",
      "metadata": {
        "id": "IC1ElqY-H0D0",
        "colab_type": "text"
      },
      "source": [
        "Let's now look at the layers in your model\n",
        "Computer Vision Example: Let's take a look at a scenario where we can recognize different items of clothing, trained from a dataset containing 10 different types.\n",
        "\n",
        "TensorFlow Version : 1.14.0"
      ]
    },
    {
      "cell_type": "markdown",
      "metadata": {
        "id": "tGKAE0YBIAbc",
        "colab_type": "text"
      },
      "source": [
        "Get the dataset from the Fashion MNIST"
      ]
    },
    {
      "cell_type": "code",
      "metadata": {
        "id": "gMWHTt4AIEFT",
        "colab_type": "code",
        "colab": {}
      },
      "source": [
        "mnist = tf.keras.datasets.mnist"
      ],
      "execution_count": 0,
      "outputs": []
    },
    {
      "cell_type": "markdown",
      "metadata": {
        "id": "sCcx2Ft1IGIa",
        "colab_type": "text"
      },
      "source": [
        "Load the Dataset from the Fashiin MNIST"
      ]
    },
    {
      "cell_type": "code",
      "metadata": {
        "id": "2EREFJmWILM8",
        "colab_type": "code",
        "colab": {
          "base_uri": "https://localhost:8080/",
          "height": 50
        },
        "outputId": "5c089473-868a-446a-f8b2-80291d2693db"
      },
      "source": [
        "(training_images, training_labels) ,  (test_images, test_labels) = mnist.load_data()"
      ],
      "execution_count": 3,
      "outputs": [
        {
          "output_type": "stream",
          "text": [
            "Downloading data from https://storage.googleapis.com/tensorflow/tf-keras-datasets/mnist.npz\n",
            "11493376/11490434 [==============================] - 0s 0us/step\n"
          ],
          "name": "stdout"
        }
      ]
    },
    {
      "cell_type": "markdown",
      "metadata": {
        "id": "IeAvfM9cIOWn",
        "colab_type": "text"
      },
      "source": [
        "Test and Train the images 255 * 255 pikcels\n"
      ]
    },
    {
      "cell_type": "code",
      "metadata": {
        "id": "ZIO3FGQ5IUzb",
        "colab_type": "code",
        "colab": {}
      },
      "source": [
        "training_images = training_images/255.0\n",
        "test_images = test_images/255.0"
      ],
      "execution_count": 0,
      "outputs": []
    },
    {
      "cell_type": "markdown",
      "metadata": {
        "id": "aJUFtrUrIWk0",
        "colab_type": "text"
      },
      "source": [
        ""
      ]
    },
    {
      "cell_type": "code",
      "metadata": {
        "id": "U9zDn1MvIYaQ",
        "colab_type": "code",
        "colab": {}
      },
      "source": [
        "model = tf.keras.models.Sequential([tf.keras.layers.Flatten(),\n",
        "                                    tf.keras.layers.Dense(1024, activation=tf.nn.relu),\n",
        "                                    tf.keras.layers.Dense(10, activation=tf.nn.softmax)])"
      ],
      "execution_count": 0,
      "outputs": []
    },
    {
      "cell_type": "markdown",
      "metadata": {
        "id": "2yQXLGulIjPw",
        "colab_type": "text"
      },
      "source": [
        "Compile the Categorical\n"
      ]
    },
    {
      "cell_type": "code",
      "metadata": {
        "id": "x6W3t5tRIo-s",
        "colab_type": "code",
        "colab": {}
      },
      "source": [
        "model.compile(optimizer = 'adam',\n",
        "              loss = 'sparse_categorical_crossentropy')"
      ],
      "execution_count": 0,
      "outputs": []
    },
    {
      "cell_type": "markdown",
      "metadata": {
        "id": "MoZ3D-olIxu8",
        "colab_type": "text"
      },
      "source": [
        "You do this by compiling it with an optimizer and loss function as before -- and then you train it by calling model.fit asking it to fit your training data to your training labels"
      ]
    },
    {
      "cell_type": "code",
      "metadata": {
        "id": "GPgUNuEnIyts",
        "colab_type": "code",
        "colab": {
          "base_uri": "https://localhost:8080/",
          "height": 202
        },
        "outputId": "ad5c85f0-d38e-42ef-e23e-f54958bf728e"
      },
      "source": [
        "model.fit(training_images, training_labels, epochs=5)"
      ],
      "execution_count": 17,
      "outputs": [
        {
          "output_type": "stream",
          "text": [
            "Epoch 1/5\n",
            "60000/60000 [==============================] - 15s 249us/sample - loss: 0.1860\n",
            "Epoch 2/5\n",
            "60000/60000 [==============================] - 15s 251us/sample - loss: 0.0743\n",
            "Epoch 3/5\n",
            "60000/60000 [==============================] - 15s 248us/sample - loss: 0.0482\n",
            "Epoch 4/5\n",
            "60000/60000 [==============================] - 15s 249us/sample - loss: 0.0339\n",
            "Epoch 5/5\n",
            "60000/60000 [==============================] - 15s 246us/sample - loss: 0.0264\n"
          ],
          "name": "stdout"
        },
        {
          "output_type": "execute_result",
          "data": {
            "text/plain": [
              "<tensorflow.python.keras.callbacks.History at 0x7f51eb67db70>"
            ]
          },
          "metadata": {
            "tags": []
          },
          "execution_count": 17
        }
      ]
    },
    {
      "cell_type": "markdown",
      "metadata": {
        "id": "2OEK9zmTJJeE",
        "colab_type": "text"
      },
      "source": [
        "We can call model.evaluate, and pass in the two sets, and it will report back the loss for each."
      ]
    },
    {
      "cell_type": "code",
      "metadata": {
        "id": "JNh93JQ-JKLV",
        "colab_type": "code",
        "colab": {
          "base_uri": "https://localhost:8080/",
          "height": 50
        },
        "outputId": "6401b61b-1c83-4a0e-b161-8fb2603c44b5"
      },
      "source": [
        "model.evaluate(test_images, test_labels)"
      ],
      "execution_count": 8,
      "outputs": [
        {
          "output_type": "stream",
          "text": [
            "10000/10000 [==============================] - 1s 83us/sample - loss: 0.0768\n"
          ],
          "name": "stdout"
        },
        {
          "output_type": "execute_result",
          "data": {
            "text/plain": [
              "0.07676124255598989"
            ]
          },
          "metadata": {
            "tags": []
          },
          "execution_count": 8
        }
      ]
    },
    {
      "cell_type": "markdown",
      "metadata": {
        "id": "aPZ7218vJT83",
        "colab_type": "text"
      },
      "source": [
        "Returned a accuracy of about .0768, which means it was about 77% accurate."
      ]
    },
    {
      "cell_type": "code",
      "metadata": {
        "id": "6tqYOzV2JXdo",
        "colab_type": "code",
        "colab": {}
      },
      "source": [
        "classifications = model.predict(test_images)"
      ],
      "execution_count": 0,
      "outputs": []
    },
    {
      "cell_type": "markdown",
      "metadata": {
        "id": "haFc4NNyJaoM",
        "colab_type": "text"
      },
      "source": [
        "Get the Classifications Results"
      ]
    },
    {
      "cell_type": "code",
      "metadata": {
        "id": "YjR-mK6jJjOx",
        "colab_type": "code",
        "colab": {
          "base_uri": "https://localhost:8080/",
          "height": 50
        },
        "outputId": "3995197a-3b05-4169-8735-6f1b529c9d08"
      },
      "source": [
        "print(classifications[0])"
      ],
      "execution_count": 10,
      "outputs": [
        {
          "output_type": "stream",
          "text": [
            "[2.6048478e-12 5.4919952e-10 3.3237857e-09 6.3537764e-10 2.9638419e-16\n",
            " 5.8988562e-13 3.3978835e-14 1.0000000e+00 3.2376407e-11 6.6738182e-10]\n"
          ],
          "name": "stdout"
        }
      ]
    },
    {
      "cell_type": "markdown",
      "metadata": {
        "id": "uRunijUBJm_Y",
        "colab_type": "text"
      },
      "source": [
        "Hint: try running print(test_labels[0]) -- and you'll get a 9. Does that help you understand why this list looks the way it does?"
      ]
    },
    {
      "cell_type": "code",
      "metadata": {
        "id": "x-SlBzwHJpVd",
        "colab_type": "code",
        "colab": {
          "base_uri": "https://localhost:8080/",
          "height": 34
        },
        "outputId": "1444be39-93e1-4680-b3b4-d01c96a6876d"
      },
      "source": [
        "print(test_labels[0])"
      ],
      "execution_count": 11,
      "outputs": [
        {
          "output_type": "stream",
          "text": [
            "7\n"
          ],
          "name": "stdout"
        }
      ]
    }
  ]
}